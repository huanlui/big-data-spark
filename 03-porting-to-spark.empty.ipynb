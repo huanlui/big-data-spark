{
 "cells": [
  {
   "cell_type": "markdown",
   "metadata": {},
   "source": [
    "# Porting an analysis from local to distributed\n",
    "\n",
    "<a href = \"http://yogen.io\"><img src=\"http://yogen.io/assets/logo.svg\" alt=\"yogen\" style=\"width: 200px; float: right;\"/></a>"
   ]
  },
  {
   "cell_type": "markdown",
   "metadata": {},
   "source": [
    "Now comes the opportunity to put in practice what we have just learned!"
   ]
  },
  {
   "cell_type": "markdown",
   "metadata": {},
   "source": [
    "# Guided exercise\n",
    "\n",
    "Recreate the boxplot we did in the pandas section, in Spark!\n",
    "\n",
    "Since matplotlib boxplot needs all the data and that would be unfeasible with Big Data, we will calculate the quartiles ourselves.\n",
    "\n",
    "Once the analysis is ported, we will be able to run it on the whole historical series! You can find it at https://transtats.bts.gov (On time performance reporting carrier)."
   ]
  },
  {
   "cell_type": "markdown",
   "metadata": {},
   "source": [
    "##  Workflow\n",
    "\n",
    "The basic idea is the same that we applied in the Amadeus Challenge:\n",
    "\n",
    "* Build prototype with small data: in this section, we will be using `06-intro_to_pandas_practical.ipynb` as our already made prototype\n",
    "\n",
    "* Modify your prototype so that it works with Big Data: In this case, it means porting it to Spark\n",
    "\n",
    "* Test your \"Big Data\" prototype with small data: We will first test it with a sample locally, then upload it to a cluster and test it with Big Data.\n",
    "\n",
    "    * You can run your analyses building your own cluster and storage bucket in Google Cloud Storage. More in notebook #4!\n",
    "\n",
    "* Run your prototype with Big Data.\n",
    "\n",
    "    \n"
   ]
  },
  {
   "cell_type": "markdown",
   "metadata": {},
   "source": [
    "## Modify the prototype so that it works with Big Data"
   ]
  },
  {
   "cell_type": "code",
   "execution_count": null,
   "metadata": {},
   "outputs": [],
   "source": []
  },
  {
   "cell_type": "markdown",
   "metadata": {},
   "source": [
    "## Read csv\n",
    "\n",
    "We'll use the `SparkSession.read.csv` method."
   ]
  },
  {
   "cell_type": "code",
   "execution_count": 11,
   "metadata": {},
   "outputs": [
    {
     "data": {
      "text/plain": [
       "[Row(Year=2018, Quarter=4, Month=12, DayofMonth=25, DayOfWeek=2, FlightDate=datetime.datetime(2018, 12, 25, 0, 0), Reporting_Airline='WN', DOT_ID_Reporting_Airline=19393, IATA_CODE_Reporting_Airline='WN', Tail_Number='N566WN', Flight_Number_Reporting_Airline=1823, OriginAirportID=13796, OriginAirportSeqID=1379608, OriginCityMarketID=32457, Origin='OAK', OriginCityName='Oakland, CA', OriginState='CA', OriginStateFips=6, OriginStateName='California', OriginWac=91, DestAirportID=11884, DestAirportSeqID=1188402, DestCityMarketID=31884, Dest='GEG', DestCityName='Spokane, WA', DestState='WA', DestStateFips=53, DestStateName='Washington', DestWac=93, CRSDepTime=1030, DepTime=1048, DepDelay=18.0, DepDelayMinutes=18.0, DepDel15=1.0, DepartureDelayGroups=1, DepTimeBlk='1000-1059', TaxiOut=12.0, WheelsOff=1100, WheelsOn=1251, TaxiIn=4.0, CRSArrTime=1230, ArrTime=1255, ArrDelay=25.0, ArrDelayMinutes=25.0, ArrDel15=1.0, ArrivalDelayGroups=1, ArrTimeBlk='1200-1259', Cancelled=0.0, CancellationCode=None, Diverted=0.0, CRSElapsedTime=120.0, ActualElapsedTime=127.0, AirTime=111.0, Flights=1.0, Distance=723.0, DistanceGroup=3, CarrierDelay=18.0, WeatherDelay=0.0, NASDelay=7.0, SecurityDelay=0.0, LateAircraftDelay=0.0, FirstDepTime=None, TotalAddGTime=None, LongestAddGTime=None, DivAirportLandings=0, DivReachedDest=None, DivActualElapsedTime=None, DivArrDelay=None, DivDistance=None, Div1Airport=None, Div1AirportID=None, Div1AirportSeqID=None, Div1WheelsOn=None, Div1TotalGTime=None, Div1LongestGTime=None, Div1WheelsOff=None, Div1TailNum=None, Div2Airport=None, Div2AirportID=None, Div2AirportSeqID=None, Div2WheelsOn=None, Div2TotalGTime=None, Div2LongestGTime=None, Div2WheelsOff=None, Div2TailNum=None, Div3Airport=None, Div3AirportID=None, Div3AirportSeqID=None, Div3WheelsOn=None, Div3TotalGTime=None, Div3LongestGTime=None, Div3WheelsOff=None, Div3TailNum=None, Div4Airport=None, Div4AirportID=None, Div4AirportSeqID=None, Div4WheelsOn=None, Div4TotalGTime=None, Div4LongestGTime=None, Div4WheelsOff=None, Div4TailNum=None, Div5Airport=None, Div5AirportID=None, Div5AirportSeqID=None, Div5WheelsOn=None, Div5TotalGTime=None, Div5LongestGTime=None, Div5WheelsOff=None, Div5TailNum=None, _c109=None),\n",
       " Row(Year=2018, Quarter=4, Month=12, DayofMonth=25, DayOfWeek=2, FlightDate=datetime.datetime(2018, 12, 25, 0, 0), Reporting_Airline='WN', DOT_ID_Reporting_Airline=19393, IATA_CODE_Reporting_Airline='WN', Tail_Number='N562WN', Flight_Number_Reporting_Airline=982, OriginAirportID=13796, OriginAirportSeqID=1379608, OriginCityMarketID=32457, Origin='OAK', OriginCityName='Oakland, CA', OriginState='CA', OriginStateFips=6, OriginStateName='California', OriginWac=91, DestAirportID=12191, DestAirportSeqID=1219102, DestCityMarketID=31453, Dest='HOU', DestCityName='Houston, TX', DestState='TX', DestStateFips=48, DestStateName='Texas', DestWac=74, CRSDepTime=640, DepTime=638, DepDelay=-2.0, DepDelayMinutes=0.0, DepDel15=0.0, DepartureDelayGroups=-1, DepTimeBlk='0600-0659', TaxiOut=11.0, WheelsOff=649, WheelsOn=1213, TaxiIn=3.0, CRSArrTime=1225, ArrTime=1216, ArrDelay=-9.0, ArrDelayMinutes=0.0, ArrDel15=0.0, ArrivalDelayGroups=-1, ArrTimeBlk='1200-1259', Cancelled=0.0, CancellationCode=None, Diverted=0.0, CRSElapsedTime=225.0, ActualElapsedTime=218.0, AirTime=204.0, Flights=1.0, Distance=1642.0, DistanceGroup=7, CarrierDelay=None, WeatherDelay=None, NASDelay=None, SecurityDelay=None, LateAircraftDelay=None, FirstDepTime=None, TotalAddGTime=None, LongestAddGTime=None, DivAirportLandings=0, DivReachedDest=None, DivActualElapsedTime=None, DivArrDelay=None, DivDistance=None, Div1Airport=None, Div1AirportID=None, Div1AirportSeqID=None, Div1WheelsOn=None, Div1TotalGTime=None, Div1LongestGTime=None, Div1WheelsOff=None, Div1TailNum=None, Div2Airport=None, Div2AirportID=None, Div2AirportSeqID=None, Div2WheelsOn=None, Div2TotalGTime=None, Div2LongestGTime=None, Div2WheelsOff=None, Div2TailNum=None, Div3Airport=None, Div3AirportID=None, Div3AirportSeqID=None, Div3WheelsOn=None, Div3TotalGTime=None, Div3LongestGTime=None, Div3WheelsOff=None, Div3TailNum=None, Div4Airport=None, Div4AirportID=None, Div4AirportSeqID=None, Div4WheelsOn=None, Div4TotalGTime=None, Div4LongestGTime=None, Div4WheelsOff=None, Div4TailNum=None, Div5Airport=None, Div5AirportID=None, Div5AirportSeqID=None, Div5WheelsOn=None, Div5TotalGTime=None, Div5LongestGTime=None, Div5WheelsOff=None, Div5TailNum=None, _c109=None),\n",
       " Row(Year=2018, Quarter=4, Month=12, DayofMonth=25, DayOfWeek=2, FlightDate=datetime.datetime(2018, 12, 25, 0, 0), Reporting_Airline='WN', DOT_ID_Reporting_Airline=19393, IATA_CODE_Reporting_Airline='WN', Tail_Number='N8611F', Flight_Number_Reporting_Airline=1562, OriginAirportID=13796, OriginAirportSeqID=1379608, OriginCityMarketID=32457, Origin='OAK', OriginCityName='Oakland, CA', OriginState='CA', OriginStateFips=6, OriginStateName='California', OriginWac=91, DestAirportID=12191, DestAirportSeqID=1219102, DestCityMarketID=31453, Dest='HOU', DestCityName='Houston, TX', DestState='TX', DestStateFips=48, DestStateName='Texas', DestWac=74, CRSDepTime=1710, DepTime=1710, DepDelay=0.0, DepDelayMinutes=0.0, DepDel15=0.0, DepartureDelayGroups=0, DepTimeBlk='1700-1759', TaxiOut=8.0, WheelsOff=1718, WheelsOn=2245, TaxiIn=4.0, CRSArrTime=2250, ArrTime=2249, ArrDelay=-1.0, ArrDelayMinutes=0.0, ArrDel15=0.0, ArrivalDelayGroups=-1, ArrTimeBlk='2200-2259', Cancelled=0.0, CancellationCode=None, Diverted=0.0, CRSElapsedTime=220.0, ActualElapsedTime=219.0, AirTime=207.0, Flights=1.0, Distance=1642.0, DistanceGroup=7, CarrierDelay=None, WeatherDelay=None, NASDelay=None, SecurityDelay=None, LateAircraftDelay=None, FirstDepTime=None, TotalAddGTime=None, LongestAddGTime=None, DivAirportLandings=0, DivReachedDest=None, DivActualElapsedTime=None, DivArrDelay=None, DivDistance=None, Div1Airport=None, Div1AirportID=None, Div1AirportSeqID=None, Div1WheelsOn=None, Div1TotalGTime=None, Div1LongestGTime=None, Div1WheelsOff=None, Div1TailNum=None, Div2Airport=None, Div2AirportID=None, Div2AirportSeqID=None, Div2WheelsOn=None, Div2TotalGTime=None, Div2LongestGTime=None, Div2WheelsOff=None, Div2TailNum=None, Div3Airport=None, Div3AirportID=None, Div3AirportSeqID=None, Div3WheelsOn=None, Div3TotalGTime=None, Div3LongestGTime=None, Div3WheelsOff=None, Div3TailNum=None, Div4Airport=None, Div4AirportID=None, Div4AirportSeqID=None, Div4WheelsOn=None, Div4TotalGTime=None, Div4LongestGTime=None, Div4WheelsOff=None, Div4TailNum=None, Div5Airport=None, Div5AirportID=None, Div5AirportSeqID=None, Div5WheelsOn=None, Div5TotalGTime=None, Div5LongestGTime=None, Div5WheelsOff=None, Div5TailNum=None, _c109=None),\n",
       " Row(Year=2018, Quarter=4, Month=12, DayofMonth=25, DayOfWeek=2, FlightDate=datetime.datetime(2018, 12, 25, 0, 0), Reporting_Airline='WN', DOT_ID_Reporting_Airline=19393, IATA_CODE_Reporting_Airline='WN', Tail_Number='N7721E', Flight_Number_Reporting_Airline=1687, OriginAirportID=13796, OriginAirportSeqID=1379608, OriginCityMarketID=32457, Origin='OAK', OriginCityName='Oakland, CA', OriginState='CA', OriginStateFips=6, OriginStateName='California', OriginWac=91, DestAirportID=12191, DestAirportSeqID=1219102, DestCityMarketID=31453, Dest='HOU', DestCityName='Houston, TX', DestState='TX', DestStateFips=48, DestStateName='Texas', DestWac=74, CRSDepTime=1320, DepTime=1318, DepDelay=-2.0, DepDelayMinutes=0.0, DepDel15=0.0, DepartureDelayGroups=-1, DepTimeBlk='1300-1359', TaxiOut=9.0, WheelsOff=1327, WheelsOn=1851, TaxiIn=5.0, CRSArrTime=1855, ArrTime=1856, ArrDelay=1.0, ArrDelayMinutes=1.0, ArrDel15=0.0, ArrivalDelayGroups=0, ArrTimeBlk='1800-1859', Cancelled=0.0, CancellationCode=None, Diverted=0.0, CRSElapsedTime=215.0, ActualElapsedTime=218.0, AirTime=204.0, Flights=1.0, Distance=1642.0, DistanceGroup=7, CarrierDelay=None, WeatherDelay=None, NASDelay=None, SecurityDelay=None, LateAircraftDelay=None, FirstDepTime=None, TotalAddGTime=None, LongestAddGTime=None, DivAirportLandings=0, DivReachedDest=None, DivActualElapsedTime=None, DivArrDelay=None, DivDistance=None, Div1Airport=None, Div1AirportID=None, Div1AirportSeqID=None, Div1WheelsOn=None, Div1TotalGTime=None, Div1LongestGTime=None, Div1WheelsOff=None, Div1TailNum=None, Div2Airport=None, Div2AirportID=None, Div2AirportSeqID=None, Div2WheelsOn=None, Div2TotalGTime=None, Div2LongestGTime=None, Div2WheelsOff=None, Div2TailNum=None, Div3Airport=None, Div3AirportID=None, Div3AirportSeqID=None, Div3WheelsOn=None, Div3TotalGTime=None, Div3LongestGTime=None, Div3WheelsOff=None, Div3TailNum=None, Div4Airport=None, Div4AirportID=None, Div4AirportSeqID=None, Div4WheelsOn=None, Div4TotalGTime=None, Div4LongestGTime=None, Div4WheelsOff=None, Div4TailNum=None, Div5Airport=None, Div5AirportID=None, Div5AirportSeqID=None, Div5WheelsOn=None, Div5TotalGTime=None, Div5LongestGTime=None, Div5WheelsOff=None, Div5TailNum=None, _c109=None),\n",
       " Row(Year=2018, Quarter=4, Month=12, DayofMonth=25, DayOfWeek=2, FlightDate=datetime.datetime(2018, 12, 25, 0, 0), Reporting_Airline='WN', DOT_ID_Reporting_Airline=19393, IATA_CODE_Reporting_Airline='WN', Tail_Number='N218WN', Flight_Number_Reporting_Airline=1877, OriginAirportID=13796, OriginAirportSeqID=1379608, OriginCityMarketID=32457, Origin='OAK', OriginCityName='Oakland, CA', OriginState='CA', OriginStateFips=6, OriginStateName='California', OriginWac=91, DestAirportID=12191, DestAirportSeqID=1219102, DestCityMarketID=31453, Dest='HOU', DestCityName='Houston, TX', DestState='TX', DestStateFips=48, DestStateName='Texas', DestWac=74, CRSDepTime=955, DepTime=953, DepDelay=-2.0, DepDelayMinutes=0.0, DepDel15=0.0, DepartureDelayGroups=-1, DepTimeBlk='0900-0959', TaxiOut=12.0, WheelsOff=1005, WheelsOn=1530, TaxiIn=3.0, CRSArrTime=1540, ArrTime=1533, ArrDelay=-7.0, ArrDelayMinutes=0.0, ArrDel15=0.0, ArrivalDelayGroups=-1, ArrTimeBlk='1500-1559', Cancelled=0.0, CancellationCode=None, Diverted=0.0, CRSElapsedTime=225.0, ActualElapsedTime=220.0, AirTime=205.0, Flights=1.0, Distance=1642.0, DistanceGroup=7, CarrierDelay=None, WeatherDelay=None, NASDelay=None, SecurityDelay=None, LateAircraftDelay=None, FirstDepTime=None, TotalAddGTime=None, LongestAddGTime=None, DivAirportLandings=0, DivReachedDest=None, DivActualElapsedTime=None, DivArrDelay=None, DivDistance=None, Div1Airport=None, Div1AirportID=None, Div1AirportSeqID=None, Div1WheelsOn=None, Div1TotalGTime=None, Div1LongestGTime=None, Div1WheelsOff=None, Div1TailNum=None, Div2Airport=None, Div2AirportID=None, Div2AirportSeqID=None, Div2WheelsOn=None, Div2TotalGTime=None, Div2LongestGTime=None, Div2WheelsOff=None, Div2TailNum=None, Div3Airport=None, Div3AirportID=None, Div3AirportSeqID=None, Div3WheelsOn=None, Div3TotalGTime=None, Div3LongestGTime=None, Div3WheelsOff=None, Div3TailNum=None, Div4Airport=None, Div4AirportID=None, Div4AirportSeqID=None, Div4WheelsOn=None, Div4TotalGTime=None, Div4LongestGTime=None, Div4WheelsOff=None, Div4TailNum=None, Div5Airport=None, Div5AirportID=None, Div5AirportSeqID=None, Div5WheelsOn=None, Div5TotalGTime=None, Div5LongestGTime=None, Div5WheelsOff=None, Div5TailNum=None, _c109=None)]"
      ]
     },
     "execution_count": 11,
     "metadata": {},
     "output_type": "execute_result"
    }
   ],
   "source": [
    "from pyspark.sql import SparkSession\n",
    "\n",
    "spark = SparkSession.builder.getOrCreate()\n",
    "df = spark.read.csv('data/On_Time_Reporting_Carrier_On_Time_Performance_(1987_present)_2018_12.csv',\n",
    "                    inferSchema=True,\n",
    "                    header=True)\n",
    "\n",
    "df.take(5)"
   ]
  },
  {
   "cell_type": "markdown",
   "metadata": {},
   "source": [
    "## Select relevant columns\n",
    "\n",
    "Literally the same syntax as Pandas!\n",
    "\n",
    "```python\n",
    "df = df.select(['FlightDate', 'DayOfWeek', 'Reporting_Airline', 'Tail_Number', 'Flight_Number_Reporting_Airline', 'Origin', \n",
    "                'OriginCityName', 'OriginStateName', 'Dest', 'DestCityName', 'DestStateName',\n",
    "                'DepTime', 'DepDelay', 'AirTime', 'Distance'])\n",
    "\n",
    "df\n",
    "```"
   ]
  },
  {
   "cell_type": "code",
   "execution_count": 12,
   "metadata": {
    "scrolled": false
   },
   "outputs": [
    {
     "data": {
      "text/plain": [
       "DataFrame[FlightDate: timestamp, DayOfWeek: int, Reporting_Airline: string, Tail_Number: string, Flight_Number_Reporting_Airline: int, Origin: string, OriginCityName: string, OriginStateName: string, Dest: string, DestCityName: string, DestStateName: string, DepTime: int, DepDelay: double, AirTime: double, Distance: double]"
      ]
     },
     "execution_count": 12,
     "metadata": {},
     "output_type": "execute_result"
    }
   ],
   "source": [
    "df = df.select(['FlightDate', 'DayOfWeek', 'Reporting_Airline', 'Tail_Number', 'Flight_Number_Reporting_Airline', 'Origin', \n",
    "                'OriginCityName', 'OriginStateName', 'Dest', 'DestCityName', 'DestStateName',\n",
    "                'DepTime', 'DepDelay', 'AirTime', 'Distance'])\n",
    "\n",
    "df"
   ]
  },
  {
   "cell_type": "markdown",
   "metadata": {},
   "source": [
    "### Extract \"Hour\" variable\n",
    "\n",
    "The DepTimes have been inferred to be floats. We need them as ints, representing each o fthe 24 hours in a day."
   ]
  },
  {
   "cell_type": "code",
   "execution_count": null,
   "metadata": {},
   "outputs": [],
   "source": []
  },
  {
   "cell_type": "markdown",
   "metadata": {},
   "source": [
    "## Generate the relative distributions\n",
    "\n",
    "In order to be able to handle the data, we need to reduce its dimensionality. Since we want to describe a discrete distribution, we can just count how many values of each level of the 'DepDelay' variable we find for each hour (24 different discrete distributions). We also want the totals in order to do the relative distribution."
   ]
  },
  {
   "cell_type": "markdown",
   "metadata": {},
   "source": [
    "### Totals"
   ]
  },
  {
   "cell_type": "code",
   "execution_count": null,
   "metadata": {},
   "outputs": [],
   "source": []
  },
  {
   "cell_type": "markdown",
   "metadata": {},
   "source": [
    "### Distributions"
   ]
  },
  {
   "cell_type": "code",
   "execution_count": null,
   "metadata": {},
   "outputs": [],
   "source": []
  },
  {
   "cell_type": "markdown",
   "metadata": {},
   "source": [
    "Now we join both and calculate what fraction of the total for each hour each level of DepDelay represents."
   ]
  },
  {
   "cell_type": "code",
   "execution_count": null,
   "metadata": {},
   "outputs": [],
   "source": []
  },
  {
   "cell_type": "markdown",
   "metadata": {},
   "source": [
    "### Generate distributions\n",
    "\n",
    "We have to group on the hour. Each group will be a bunch of delays and the corresponding frequencies."
   ]
  },
  {
   "cell_type": "code",
   "execution_count": null,
   "metadata": {},
   "outputs": [],
   "source": []
  },
  {
   "cell_type": "markdown",
   "metadata": {},
   "source": [
    "These groups are definitely manageable: the number of levels will be on the order of a few hundreds to a couple thousands. We can combine them into lists straight away."
   ]
  },
  {
   "cell_type": "code",
   "execution_count": null,
   "metadata": {},
   "outputs": [],
   "source": []
  },
  {
   "cell_type": "markdown",
   "metadata": {},
   "source": [
    "Now it's be easy to use a UDF to merge the two lists and sort them."
   ]
  },
  {
   "cell_type": "code",
   "execution_count": null,
   "metadata": {},
   "outputs": [],
   "source": []
  },
  {
   "cell_type": "markdown",
   "metadata": {},
   "source": [
    "Careful! If we keep that string return type, it might be problematic later."
   ]
  },
  {
   "cell_type": "code",
   "execution_count": null,
   "metadata": {},
   "outputs": [],
   "source": []
  },
  {
   "cell_type": "markdown",
   "metadata": {},
   "source": [
    "### Calculating the quartiles\n",
    "\n",
    "We are finally ready to calculate the quartiles! We will use a UDF.\n",
    "\n",
    "The input to our custom function will be one of the distributions coded like we did: as a list of tuples `(value, relative_frequency)`. The quartiles are defined as the values at which we cross the 0.0, .25, .5, .75 and 1.00 relative frequencies. Since the distributions are ordered, we can just iterate over one while keeping track of what portion of the total distribution we have seen, and annotate where we cross the thresholds."
   ]
  },
  {
   "cell_type": "code",
   "execution_count": null,
   "metadata": {},
   "outputs": [],
   "source": []
  },
  {
   "cell_type": "markdown",
   "metadata": {},
   "source": [
    "Apply to the dataframe:"
   ]
  },
  {
   "cell_type": "code",
   "execution_count": null,
   "metadata": {},
   "outputs": [],
   "source": []
  },
  {
   "cell_type": "markdown",
   "metadata": {},
   "source": [
    "### Plotting\n",
    "\n",
    "We got it! Let's move this over to Pandas for convenient handling"
   ]
  },
  {
   "cell_type": "code",
   "execution_count": null,
   "metadata": {},
   "outputs": [],
   "source": []
  },
  {
   "cell_type": "markdown",
   "metadata": {},
   "source": [
    "And we are ready to plot!"
   ]
  },
  {
   "cell_type": "code",
   "execution_count": null,
   "metadata": {},
   "outputs": [],
   "source": []
  },
  {
   "cell_type": "markdown",
   "metadata": {},
   "source": [
    "## Test your \"Big Data\" prototype with small data"
   ]
  },
  {
   "cell_type": "markdown",
   "metadata": {},
   "source": [
    "### Summary\n",
    "\n",
    "This is the whole process, collected in one place as is:"
   ]
  },
  {
   "cell_type": "code",
   "execution_count": null,
   "metadata": {},
   "outputs": [],
   "source": []
  },
  {
   "cell_type": "markdown",
   "metadata": {},
   "source": [
    "### Pyspark job\n",
    "\n",
    "In order to run the process in a cluster, we need to transform it into a pyspark job file. \n",
    "\n",
    "We need to tidy up the function definitions, add the relevant imports, and modify the input and output to use command-line arguments.\n",
    "\n",
    "We will put the result in a file called mysparkjob.py:\n",
    "\n",
    "```python\n",
    "from __future__ import print_function\n",
    "from pyspark.sql import types, functions, SparkSession\n",
    "import sys\n",
    "\n",
    "def zipsort(a, b):\n",
    "    return sorted(zip(a, b))\n",
    "\n",
    "def quartiles(histogram):\n",
    "    area = 0\n",
    "    result = []\n",
    "    \n",
    "    for value, percentage in histogram:\n",
    "        if area == 0:\n",
    "            result.append(value)\n",
    "        elif area <= .25 and area + percentage > .25:\n",
    "            result.append(value)\n",
    "        elif area <= .5 and area + percentage > .5:\n",
    "            result.append(value)\n",
    "        elif area <= .75 and area + percentage > .75:\n",
    "            result.append(value)\n",
    "        area += percentage\n",
    "    \n",
    "    result.append(value)\n",
    "    return result\n",
    "\n",
    "if __name__=='__main__':\n",
    "    \n",
    "    file = sys.argv[1]\n",
    "    out = sys.argv[2]\n",
    "    \n",
    "    spark = SparkSession.builder.getOrCreate()\n",
    "    df = spark.read.csv(file, header= True, inferSchema=True)\n",
    "    df = df.select(['FlightDate', 'DayOfWeek', 'Reporting_Airline', 'Tail_Number', 'Flight_Number_Reporting_Airline', 'Origin', \n",
    "                    'OriginCityName', 'OriginStateName', 'Dest', 'DestCityName', 'DestStateName',\n",
    "                    'DepTime', 'DepDelay', 'AirTime', 'Distance'])\n",
    "\n",
    "    df2 = df.withColumn('Hour', (df['DepTime'] / 100).cast(types.IntegerType()))\n",
    "    totals = df2.groupBy('Hour').count()\n",
    "    distributions = df2.groupBy(['Hour', 'DepDelay']).count()\n",
    "    annotated = distributions.join(totals, on='Hour')\n",
    "    frequencies = annotated.withColumn('relative', distributions['count'] / totals['count'])\n",
    "    groups = frequencies.groupBy(totals['Hour'])\\\n",
    "                        .agg(functions.collect_list('DepDelay').alias('delays'),\n",
    "                             functions.collect_list('relative').alias('relatives'))\n",
    "\n",
    "\n",
    "\n",
    "    zipsort_typed = functions.udf(zipsort, types.ArrayType(types.ArrayType(types.FloatType())))\n",
    "    distributions = groups.withColumn('distributions', zipsort_typed('delays', 'relatives'))\n",
    "\n",
    "\n",
    "\n",
    "    quartiles_udf = functions.udf(quartiles, returnType=types.ArrayType(types.FloatType()))\n",
    "\n",
    "    result = distributions.select('Hour',\n",
    "                                  quartiles_udf('distributions').alias('quartiles'))\n",
    "\n",
    "    result.write.json(out)\n",
    "    spark.stop()\n",
    "```"
   ]
  },
  {
   "cell_type": "code",
   "execution_count": null,
   "metadata": {},
   "outputs": [],
   "source": []
  },
  {
   "cell_type": "markdown",
   "metadata": {},
   "source": [
    "### Running with spark-submit\n",
    "\n",
    "If the following works, we are ready to test it in the cluster!\n",
    "\n",
    "```python\n",
    "unset PYSPARK_DRIVER_PYTHON\n",
    "spark-submit mysparkjob.py On_Time_On_Time_Performance_2015_8.csv out.csv\n",
    "```"
   ]
  }
 ],
 "metadata": {
  "kernelspec": {
   "display_name": "Python 3",
   "language": "python",
   "name": "python3"
  },
  "language_info": {
   "codemirror_mode": {
    "name": "ipython",
    "version": 3
   },
   "file_extension": ".py",
   "mimetype": "text/x-python",
   "name": "python",
   "nbconvert_exporter": "python",
   "pygments_lexer": "ipython3",
   "version": "3.7.4"
  },
  "toc": {
   "base_numbering": 1,
   "nav_menu": {},
   "number_sections": true,
   "sideBar": true,
   "skip_h1_title": false,
   "title_cell": "Table of Contents",
   "title_sidebar": "Contents",
   "toc_cell": false,
   "toc_position": {},
   "toc_section_display": true,
   "toc_window_display": false
  }
 },
 "nbformat": 4,
 "nbformat_minor": 2
}
